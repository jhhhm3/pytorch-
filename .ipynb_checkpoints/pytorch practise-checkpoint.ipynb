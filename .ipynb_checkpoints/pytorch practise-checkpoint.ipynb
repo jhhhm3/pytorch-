{
 "cells": [
  {
   "cell_type": "code",
   "execution_count": 1,
   "id": "d20829c6",
   "metadata": {},
   "outputs": [],
   "source": [
    "#1. 加载必要的库\n",
    "import torch\n",
    "import torch.nn as nn\n",
    "import torch.nn.functional as F\n",
    "import torch.optim as optim\n",
    "from torchvision import datasets, transforms"
   ]
  },
  {
   "cell_type": "markdown",
   "id": "6f2adb60",
   "metadata": {},
   "source": []
  },
  {
   "cell_type": "code",
   "execution_count": 2,
   "id": "54654a31",
   "metadata": {},
   "outputs": [],
   "source": [
    "#2.定义超参数\n",
    "BATCH_SIZE = 64 #每批处理的数据\n",
    "DEVICE = torch.device(\"cuda\" if torch.cuda.is_available() else \"cpu\") #用GPU还是CPU\n",
    "EPOCHS = 20 #训练数据集的轮次"
   ]
  },
  {
   "cell_type": "code",
   "execution_count": 3,
   "id": "4d8e5321",
   "metadata": {},
   "outputs": [],
   "source": [
    "#3.构建pipeline,对图像做处理\n",
    "pipeline = transforms.Compose([\n",
    "    transforms.ToTensor(), #将图片转化为tensor\n",
    "    transforms.Normalize((0.1307,), (0.3081,)) #降低模型复杂度\n",
    "])"
   ]
  },
  {
   "cell_type": "code",
   "execution_count": 4,
   "id": "06813dde",
   "metadata": {},
   "outputs": [],
   "source": [
    "#4. 下载，加载数据\n",
    "from torch.utils.data import DataLoader\n",
    "\n",
    "#下载数据集\n",
    "train_set = datasets.MNIST(\"data\",train = True, download = True, transform = pipeline )\n",
    "\n",
    "test_set = datasets.MNIST(\"data\",train = False, download = True, transform = pipeline )\n",
    "\n",
    "#加载数据\n",
    "train_loader = DataLoader(train_set, batch_size = BATCH_SIZE, shuffle = True)\n",
    "\n",
    "test_loader = DataLoader(test_set, batch_size = BATCH_SIZE, shuffle = True)"
   ]
  },
  {
   "cell_type": "code",
   "execution_count": 5,
   "id": "38b5bb34",
   "metadata": {},
   "outputs": [],
   "source": [
    "##插入代码，显示MNIST中的图片\n",
    "with open(\"./data/MNIST/raw/train-images-idx3-ubyte\", \"rb\") as f :\n",
    "    file = f.read()"
   ]
  },
  {
   "cell_type": "code",
   "execution_count": 6,
   "id": "753e4fb1",
   "metadata": {},
   "outputs": [
    {
     "name": "stdout",
     "output_type": "stream",
     "text": [
      "[0, 0, 0, 0, 0, 0, 0, 0, 0, 0, 0, 0, 0, 0, 0, 0, 0, 0, 0, 0, 0, 0, 0, 0, 0, 0, 0, 0, 0, 0, 0, 0, 0, 0, 0, 0, 0, 0, 0, 0, 0, 0, 0, 0, 0, 0, 0, 0, 0, 0, 0, 0, 0, 0, 0, 0, 0, 0, 0, 0, 0, 0, 0, 0, 0, 0, 0, 0, 0, 0, 0, 0, 0, 0, 0, 0, 0, 0, 0, 0, 0, 0, 0, 0, 0, 0, 0, 0, 0, 0, 0, 0, 0, 0, 0, 0, 0, 0, 0, 0, 0, 0, 0, 0, 0, 0, 0, 0, 0, 0, 0, 0, 0, 0, 0, 0, 0, 0, 0, 0, 0, 0, 0, 0, 0, 0, 0, 0, 0, 0, 0, 0, 0, 0, 0, 0, 0, 0, 0, 0, 0, 0, 0, 0, 0, 0, 0, 0, 0, 0, 0, 0, 3, 24, 24, 24, 294, 310, 373, 38, 358, 597, 583, 295, 0, 0, 0, 0, 0, 0, 0, 0, 0, 0, 0, 0, 48, 54, 148, 340, 368, 595, 595, 595, 595, 595, 549, 370, 595, 578, 405, 100, 0, 0, 0, 0, 0, 0, 0, 0, 0, 0, 0, 73, 568, 595, 595, 595, 595, 595, 595, 595, 595, 593, 147, 130, 130, 86, 57, 0, 0, 0, 0, 0, 0, 0, 0, 0, 0, 0, 0, 24, 537, 595, 595, 595, 595, 595, 408, 386, 583, 577, 0, 0, 0, 0, 0, 0, 0, 0, 0, 0, 0, 0, 0, 0, 0, 0, 0, 0, 128, 342, 263, 595, 595, 517, 17, 0, 67, 340, 0, 0, 0, 0, 0, 0, 0, 0, 0, 0, 0, 0, 0, 0, 0, 0, 0, 0, 0, 20, 1, 340, 595, 144, 0, 0, 0, 0, 0, 0, 0, 0, 0, 0, 0, 0, 0, 0, 0, 0, 0, 0, 0, 0, 0, 0, 0, 0, 0, 313, 595, 400, 2, 0, 0, 0, 0, 0, 0, 0, 0, 0, 0, 0, 0, 0, 0, 0, 0, 0, 0, 0, 0, 0, 0, 0, 0, 17, 400, 595, 112, 0, 0, 0, 0, 0, 0, 0, 0, 0, 0, 0, 0, 0, 0, 0, 0, 0, 0, 0, 0, 0, 0, 0, 0, 0, 53, 577, 549, 352, 264, 1, 0, 0, 0, 0, 0, 0, 0, 0, 0, 0, 0, 0, 0, 0, 0, 0, 0, 0, 0, 0, 0, 0, 0, 129, 576, 595, 595, 281, 37, 0, 0, 0, 0, 0, 0, 0, 0, 0, 0, 0, 0, 0, 0, 0, 0, 0, 0, 0, 0, 0, 0, 0, 69, 390, 595, 595, 336, 39, 0, 0, 0, 0, 0, 0, 0, 0, 0, 0, 0, 0, 0, 0, 0, 0, 0, 0, 0, 0, 0, 0, 0, 22, 147, 594, 595, 391, 0, 0, 0, 0, 0, 0, 0, 0, 0, 0, 0, 0, 0, 0, 0, 0, 0, 0, 0, 0, 0, 0, 0, 0, 0, 585, 595, 585, 100, 0, 0, 0, 0, 0, 0, 0, 0, 0, 0, 0, 0, 0, 0, 0, 0, 0, 0, 0, 0, 0, 70, 304, 387, 595, 595, 519, 2, 0, 0, 0, 0, 0, 0, 0, 0, 0, 0, 0, 0, 0, 0, 0, 0, 0, 0, 0, 57, 328, 553, 595, 595, 595, 592, 386, 0, 0, 0, 0, 0, 0, 0, 0, 0, 0, 0, 0, 0, 0, 0, 0, 0, 0, 36, 276, 545, 595, 595, 595, 595, 513, 120, 0, 0, 0, 0, 0, 0, 0, 0, 0, 0, 0, 0, 0, 0, 0, 0, 0, 35, 102, 531, 595, 595, 595, 595, 408, 129, 2, 0, 0, 0, 0, 0, 0, 0, 0, 0, 0, 0, 0, 0, 0, 0, 0, 24, 369, 537, 595, 595, 595, 595, 405, 128, 9, 0, 0, 0, 0, 0, 0, 0, 0, 0, 0, 0, 0, 0, 0, 0, 0, 85, 370, 550, 595, 595, 595, 595, 580, 307, 17, 0, 0, 0, 0, 0, 0, 0, 0, 0, 0, 0, 0, 0, 0, 0, 0, 0, 0, 310, 595, 595, 595, 530, 309, 306, 22, 0, 0, 0, 0, 0, 0, 0, 0, 0, 0, 0, 0, 0, 0, 0, 0, 0, 0, 0, 0, 0, 0, 0, 0, 0, 0, 0, 0, 0, 0, 0, 0, 0, 0, 0, 0, 0, 0, 0, 0, 0, 0, 0, 0, 0, 0, 0, 0, 0, 0, 0, 0, 0, 0, 0, 0, 0, 0, 0, 0, 0, 0, 0, 0, 0, 0, 0, 0, 0, 0, 0, 0, 0, 0, 0, 0, 0, 0, 0, 0, 0, 0, 0, 0, 0, 0, 0, 0, 0, 0, 0, 0, 0, 0, 0, 0, 0, 0, 0, 0]\n"
     ]
    }
   ],
   "source": [
    "image1= [int(str(item).encode('ascii'),16) for item in file[16 : 16+784] ]\n",
    "print(image1)"
   ]
  },
  {
   "cell_type": "code",
   "execution_count": 7,
   "id": "887449ba",
   "metadata": {},
   "outputs": [
    {
     "name": "stdout",
     "output_type": "stream",
     "text": [
      "(28, 28, 1)\n"
     ]
    }
   ],
   "source": [
    "import cv2 \n",
    "import numpy as np\n",
    "\n",
    "image1_np = np.array(image1, dtype= np.uint8).reshape(28, 28, 1)\n",
    "\n",
    "print(image1_np.shape)"
   ]
  },
  {
   "cell_type": "code",
   "execution_count": 8,
   "id": "9cf5bc58",
   "metadata": {},
   "outputs": [
    {
     "data": {
      "text/plain": [
       "True"
      ]
     },
     "execution_count": 8,
     "metadata": {},
     "output_type": "execute_result"
    }
   ],
   "source": [
    "cv2.imwrite(\"digit.jpg\", image1_np)"
   ]
  },
  {
   "cell_type": "code",
   "execution_count": 9,
   "id": "4efd6bf3",
   "metadata": {},
   "outputs": [],
   "source": [
    "#5. 构建网络模型\n",
    "class Digit(nn.Module):\n",
    "    def __init__(self):\n",
    "        super().__init__()\n",
    "        self.conv1 = nn.Conv2d(1,10,5) #1:灰度图片的通道  10:输出通道  5:卷积核\n",
    "        self.conv2 = nn.Conv2d(10,20,3) #10:输入通道  20:输出通道  \n",
    "        self.fc1 = nn.Linear(20*10*10, 500)\n",
    "        self.fc2 = nn.Linear(500, 10)\n",
    "        \n",
    "    def forward(self, x):\n",
    "        input_size = x.size(0) \n",
    "        x = self.conv1(x)\n",
    "        x = F.relu(x)\n",
    "        x = F.max_pool2d(x, 2, 2)\n",
    "        \n",
    "        x = self.conv2(x)\n",
    "        x = F.relu(x)\n",
    "        \n",
    "        x = x.view(input_size, -1) #拉平，-1 自动计算维度，20*10*10 =2000\n",
    "                   \n",
    "        x = self.fc1(x) #输入: batch*2000  输出:batch*500\n",
    "        x = F.relu(x) #保持shape不变\n",
    "                   \n",
    "        x = self.fc2(x) #输入:batch*500  输出:batch*10\n",
    "                   \n",
    "        output = F.log_softmax(x, dim=1)  #计算\n",
    "                   \n",
    "        return output"
   ]
  },
  {
   "cell_type": "code",
   "execution_count": 10,
   "id": "27d557c3",
   "metadata": {},
   "outputs": [],
   "source": [
    "#6. 定义优化器\n",
    "model = Digit().to(DEVICE)\n",
    "\n",
    "optimizer = optim.Adam(model.parameters())"
   ]
  },
  {
   "cell_type": "code",
   "execution_count": 11,
   "id": "1f9542ae",
   "metadata": {},
   "outputs": [],
   "source": [
    "#7. 定义训练方法\n",
    "def train_model(model, device, train_loader, optimizer,epoch):\n",
    "    # 模型训练\n",
    "    model.train()\n",
    "    for batch_index,(data , target) in enumerate(train_loader):\n",
    "        #部署到device\n",
    "        data, target = data.to(device), target.to(device)\n",
    "        #梯度初始化为0\n",
    "        optimizer.zero_grad()\n",
    "        #训练后的结果\n",
    "        output = model(data)\n",
    "        #计算损失\n",
    "        loss = F.cross_entropy(output, target)\n",
    "        #找到概率值最大的下标\n",
    "        pred = output.max(1, keepdim = True)\n",
    "        #反向传播\n",
    "        loss.backward()\n",
    "        #参数优化\n",
    "        optimizer.step()\n",
    "        if batch_index % 3000 == 0:\n",
    "            print('Train Epoch:{} \\t  Loss:{:.6f}'.format(epoch, loss.item()))"
   ]
  },
  {
   "cell_type": "code",
   "execution_count": 12,
   "id": "4313848f",
   "metadata": {},
   "outputs": [],
   "source": [
    "#8. 定义测试方法\n",
    "def test_model(model, device, test_loader):\n",
    "    #模型验证\n",
    "    model.eval()\n",
    "    #正确率\n",
    "    correct = 0.0\n",
    "    #测试损失\n",
    "    test_loss = 0.0\n",
    "    with torch.no_grad():\n",
    "        for data,target in test_loader:\n",
    "            #部署到device上\n",
    "            data, target = data.to(device), target.to(device)\n",
    "            #测试数据\n",
    "            output = model(data)\n",
    "            #计算测试损失\n",
    "            test_loss += F.cross_entropy(output, target).item()\n",
    "            #找到概率值最大的下标\n",
    "            pred = output.max(1,keepdim = True)[1]\n",
    "            \n",
    "            #累计正确的值\n",
    "            correct += pred.eq(target.view_as(pred)).sum().item()\n",
    "        test_loss /= len(test_loader.dataset)\n",
    "        print(\"Test - Average loss : {:.4f}, Accurracy ;{:.3f}\\n\".format(\n",
    "                    test_loss, 100.0 * correct / len(test_loader.dataset)))"
   ]
  },
  {
   "cell_type": "code",
   "execution_count": 13,
   "id": "40e9097d",
   "metadata": {},
   "outputs": [
    {
     "name": "stdout",
     "output_type": "stream",
     "text": [
      "Train Epoch:1 \t  Loss:2.308477\n",
      "Test - Average loss : 0.0008, Accurracy ;98.240\n",
      "\n",
      "Train Epoch:2 \t  Loss:0.031134\n",
      "Test - Average loss : 0.0006, Accurracy ;98.730\n",
      "\n",
      "Train Epoch:3 \t  Loss:0.005985\n",
      "Test - Average loss : 0.0007, Accurracy ;98.630\n",
      "\n",
      "Train Epoch:4 \t  Loss:0.018791\n",
      "Test - Average loss : 0.0004, Accurracy ;99.160\n",
      "\n",
      "Train Epoch:5 \t  Loss:0.003338\n",
      "Test - Average loss : 0.0004, Accurracy ;99.160\n",
      "\n",
      "Train Epoch:6 \t  Loss:0.000413\n",
      "Test - Average loss : 0.0006, Accurracy ;98.930\n",
      "\n",
      "Train Epoch:7 \t  Loss:0.001474\n",
      "Test - Average loss : 0.0007, Accurracy ;98.740\n",
      "\n",
      "Train Epoch:8 \t  Loss:0.009495\n",
      "Test - Average loss : 0.0006, Accurracy ;98.960\n",
      "\n",
      "Train Epoch:9 \t  Loss:0.000017\n",
      "Test - Average loss : 0.0007, Accurracy ;98.870\n",
      "\n",
      "Train Epoch:10 \t  Loss:0.000209\n",
      "Test - Average loss : 0.0007, Accurracy ;98.940\n",
      "\n",
      "Train Epoch:11 \t  Loss:0.000025\n",
      "Test - Average loss : 0.0006, Accurracy ;99.140\n",
      "\n",
      "Train Epoch:12 \t  Loss:0.000805\n",
      "Test - Average loss : 0.0007, Accurracy ;98.930\n",
      "\n",
      "Train Epoch:13 \t  Loss:0.000212\n",
      "Test - Average loss : 0.0008, Accurracy ;98.960\n",
      "\n",
      "Train Epoch:14 \t  Loss:0.000040\n",
      "Test - Average loss : 0.0010, Accurracy ;98.900\n",
      "\n",
      "Train Epoch:15 \t  Loss:0.000061\n",
      "Test - Average loss : 0.0008, Accurracy ;99.010\n",
      "\n",
      "Train Epoch:16 \t  Loss:0.000000\n",
      "Test - Average loss : 0.0008, Accurracy ;98.980\n",
      "\n",
      "Train Epoch:17 \t  Loss:0.000034\n",
      "Test - Average loss : 0.0008, Accurracy ;99.010\n",
      "\n",
      "Train Epoch:18 \t  Loss:0.000120\n",
      "Test - Average loss : 0.0008, Accurracy ;99.090\n",
      "\n",
      "Train Epoch:19 \t  Loss:0.000000\n",
      "Test - Average loss : 0.0011, Accurracy ;98.880\n",
      "\n",
      "Train Epoch:20 \t  Loss:0.002011\n",
      "Test - Average loss : 0.0009, Accurracy ;99.100\n",
      "\n"
     ]
    }
   ],
   "source": [
    "#9. 调用方法7/8\n",
    "for epoch in range(1, EPOCHS + 1):\n",
    "    train_model(model,DEVICE,train_loader,optimizer,epoch)\n",
    "    test_model(model,DEVICE,test_loader)"
   ]
  },
  {
   "cell_type": "code",
   "execution_count": null,
   "id": "0ee5cf9c",
   "metadata": {},
   "outputs": [],
   "source": []
  }
 ],
 "metadata": {
  "kernelspec": {
   "display_name": "Python 3 (ipykernel)",
   "language": "python",
   "name": "python3"
  },
  "language_info": {
   "codemirror_mode": {
    "name": "ipython",
    "version": 3
   },
   "file_extension": ".py",
   "mimetype": "text/x-python",
   "name": "python",
   "nbconvert_exporter": "python",
   "pygments_lexer": "ipython3",
   "version": "3.9.12"
  }
 },
 "nbformat": 4,
 "nbformat_minor": 5
}
